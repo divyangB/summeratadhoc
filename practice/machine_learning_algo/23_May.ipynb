{
 "cells": [
  {
   "cell_type": "code",
   "execution_count": 17,
   "metadata": {},
   "outputs": [
    {
     "data": {
      "image/png": "[encoded data removed]",
      "text/plain": [
       "<Figure size 432x288 with 1 Axes>"
      ]
     },
     "metadata": {},
     "output_type": "display_data"
    },
    {
     "name": "stdout",
     "output_type": "stream",
     "text": [
      "13.038404810405298\n"
     ]
    }
   ],
   "source": [
    "import matplotlib.pyplot as plt\n",
    "from math import sqrt\n",
    "\n",
    "x= [[1,2],[2,2],[3,2]]\n",
    "x1= [[2,3],[1,3],[4,2]]\n",
    "\n",
    "\n",
    "y= [[5,6],[8,7],[9,12]]\n",
    "y1= [[8,8],[7,9],[10,12]]\n",
    "\n",
    "\n",
    "plt.scatter(x,x1,s=100,color='r')\n",
    "plt.scatter(y,y1,s=150,color= 'g')\n",
    "plt.scatter(8,14,s=200, color= 'y')\n",
    "\n",
    "\n",
    "plt.show()\n",
    "\n",
    "#calculating distance  Euclidean distance\n",
    "d= sqrt((x[0][0]-8)**2 + (x1[0][1]-14)**2)\n",
    "print (d)\n"
   ]
  },
  {
   "cell_type": "code",
   "execution_count": null,
   "metadata": {},
   "outputs": [],
   "source": []
  },
  {
   "cell_type": "code",
   "execution_count": null,
   "metadata": {},
   "outputs": [],
   "source": []
  }
 ],
 "metadata": {
  "kernelspec": {
   "display_name": "Python 3",
   "language": "python",
   "name": "python3"
  },
  "language_info": {
   "codemirror_mode": {
    "name": "ipython",
    "version": 3
   },
   "file_extension": ".py",
   "mimetype": "text/x-python",
   "name": "python",
   "nbconvert_exporter": "python",
   "pygments_lexer": "ipython3",
   "version": "3.5.2"
  }
 },
 "nbformat": 4,
 "nbformat_minor": 2
}
