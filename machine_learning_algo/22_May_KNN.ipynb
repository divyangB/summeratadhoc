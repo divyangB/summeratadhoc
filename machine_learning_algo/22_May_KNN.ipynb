{
 "cells": [
  {
   "cell_type": "code",
   "execution_count": 9,
   "metadata": {},
   "outputs": [
    {
     "name": "stdout",
     "output_type": "stream",
     "text": [
      "[0 2 2 0 2 2 2 1 2 2 0 1 1 0 2 1 1 2 1 0 2 0 2 0 1 0 0 0 1 1 2 0 2 0 1 2 0\n",
      " 2 1 1 1 1 1 1 2]\n",
      "0.9555555555555556\n"
     ]
    }
   ],
   "source": [
    "# K- nearest neighbour (This is an algo)\n",
    "#more accurate than DecisionTreeClassifier\n",
    "#It performs both classification and regression\n",
    "\n",
    "from sklearn.datasets import load_iris\n",
    "from sklearn.neighbors import KNeighborsClassifier\n",
    "from sklearn.model_selection import train_test_split\n",
    "from sklearn.metrics import accuracy_score\n",
    "#loading the iris data\n",
    "iris =  load_iris()\n",
    "\n",
    "#splitting data into training data and testing data\n",
    "train_data,test_data,train_target,test_target = train_test_split(iris.data,iris.target, test_size = 0.30)\n",
    "\n",
    "clf = KNeighborsClassifier(n_neighbors = 7)\n",
    "\n",
    "#training dataset\n",
    "trained = clf.fit(train_data,train_target)\n",
    "\n",
    "#predicting output\n",
    "predicted = trained.predict(test_data)\n",
    "\n",
    "print(predicted)\n",
    "\n",
    "print(accuracy_score(test_target,predicted))"
   ]
  },
  {
   "cell_type": "code",
   "execution_count": null,
   "metadata": {},
   "outputs": [],
   "source": []
  },
  {
   "cell_type": "code",
   "execution_count": null,
   "metadata": {},
   "outputs": [],
   "source": []
  }
 ],
 "metadata": {
  "kernelspec": {
   "display_name": "Python 3",
   "language": "python",
   "name": "python3"
  },
  "language_info": {
   "codemirror_mode": {
    "name": "ipython",
    "version": 3
   },
   "file_extension": ".py",
   "mimetype": "text/x-python",
   "name": "python",
   "nbconvert_exporter": "python",
   "pygments_lexer": "ipython3",
   "version": "3.5.2"
  }
 },
 "nbformat": 4,
 "nbformat_minor": 2
}
